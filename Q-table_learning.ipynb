{
 "cells": [
  {
   "attachments": {},
   "cell_type": "markdown",
   "metadata": {},
   "source": [
    "## Q running with random seed\n",
    "\n",
    "모두의 딥러닝 실습 코드\n",
    "reference : https://hunkim.github.io/ml/RL/rl-l03.pdf"
   ]
  },
  {
   "cell_type": "code",
   "execution_count": 16,
   "metadata": {},
   "outputs": [],
   "source": [
    "import gymnasium as gym\n",
    "import numpy as np\n",
    "import matplotlib.pyplot as plt"
   ]
  },
  {
   "attachments": {},
   "cell_type": "markdown",
   "metadata": {},
   "source": [
    "FrozenLake 환경 생성 하기,\n",
    "\n",
    "is_slippery = False로 설정, render_mode는 human으로 설정한다(나중에 학습 하는 모습을 npc로 귀엽게 확인 할 수 있음)"
   ]
  },
  {
   "attachments": {},
   "cell_type": "markdown",
   "metadata": {},
   "source": [
    "![alt](./frozen_lake_human_mode.png)"
   ]
  },
  {
   "cell_type": "code",
   "execution_count": 17,
   "metadata": {},
   "outputs": [],
   "source": [
    "env = gym.make(\"FrozenLake-v1\", is_slippery = False, render_mode='human')"
   ]
  },
  {
   "attachments": {},
   "cell_type": "markdown",
   "metadata": {},
   "source": [
    "Q-learning algorithm\n",
    "\n",
    "$ \\hat{Q}(s, a) \\leftarrow r + \\gamma \\max_{a'} \\hat{Q}(s',a') $\n",
    "\n",
    "discount factor\n",
    "$\\gamma$ : .99\n"
   ]
  },
  {
   "cell_type": "code",
   "execution_count": 18,
   "metadata": {},
   "outputs": [],
   "source": [
    "Q = np.zeros([env.observation_space.n, env.action_space.n])\n",
    "\n",
    "dis = .99\n",
    "num_episodes = 2000\n",
    "rList = []"
   ]
  },
  {
   "cell_type": "code",
   "execution_count": 19,
   "metadata": {},
   "outputs": [
    {
     "name": "stdout",
     "output_type": "stream",
     "text": [
      "False -1.0 {'prob': 1.0}\n",
      "num_of_episodes : 0, -1.0\n",
      "False -1.0 {'prob': 1.0}\n",
      "num_of_episodes : 1, -1.0\n",
      "False -1.0 {'prob': 1.0}\n",
      "num_of_episodes : 2, -1.0\n",
      "False -1.0 {'prob': 1.0}\n",
      "num_of_episodes : 3, -1.0\n",
      "False -1.0 {'prob': 1.0}\n",
      "num_of_episodes : 4, -1.0\n",
      "False -1.0 {'prob': 1.0}\n",
      "num_of_episodes : 5, -1.0\n",
      "False -1.0 {'prob': 1.0}\n",
      "num_of_episodes : 6, -1.0\n",
      "False -1.0 {'prob': 1.0}\n",
      "num_of_episodes : 7, -1.0\n",
      "True -1.0 {'prob': 1.0}\n",
      "num_of_episodes : 8, -1.0\n",
      "True 1.0 {'prob': 1.0}\n",
      "num_of_episodes : 9, 1.0\n",
      "False 1.0 {'prob': 1.0}\n",
      "num_of_episodes : 10, 1.0\n",
      "False 1.0 {'prob': 1.0}\n",
      "num_of_episodes : 11, 1.0\n",
      "False 1.0 {'prob': 1.0}\n",
      "num_of_episodes : 12, 1.0\n",
      "False 1.0 {'prob': 1.0}\n",
      "num_of_episodes : 13, 1.0\n",
      "False 1.0 {'prob': 1.0}\n",
      "num_of_episodes : 14, 1.0\n",
      "False 1.0 {'prob': 1.0}\n",
      "num_of_episodes : 15, 1.0\n",
      "False 1.0 {'prob': 1.0}\n",
      "num_of_episodes : 16, 1.0\n",
      "False 1.0 {'prob': 1.0}\n",
      "num_of_episodes : 17, 1.0\n",
      "False 1.0 {'prob': 1.0}\n",
      "num_of_episodes : 18, 1.0\n",
      "False 1.0 {'prob': 1.0}\n",
      "num_of_episodes : 19, 1.0\n",
      "False 1.0 {'prob': 1.0}\n",
      "num_of_episodes : 20, 1.0\n",
      "False 1.0 {'prob': 1.0}\n",
      "num_of_episodes : 21, 1.0\n",
      "False 1.0 {'prob': 1.0}\n",
      "num_of_episodes : 22, 1.0\n",
      "False 1.0 {'prob': 1.0}\n",
      "num_of_episodes : 23, 1.0\n",
      "False 1.0 {'prob': 1.0}\n",
      "num_of_episodes : 24, 1.0\n",
      "False 1.0 {'prob': 1.0}\n",
      "num_of_episodes : 25, 1.0\n",
      "False 1.0 {'prob': 1.0}\n",
      "num_of_episodes : 26, 1.0\n",
      "False 1.0 {'prob': 1.0}\n",
      "num_of_episodes : 27, 1.0\n",
      "False 1.0 {'prob': 1.0}\n",
      "num_of_episodes : 28, 1.0\n",
      "False 1.0 {'prob': 1.0}\n",
      "num_of_episodes : 29, 1.0\n",
      "False 1.0 {'prob': 1.0}\n",
      "num_of_episodes : 30, 1.0\n",
      "False 1.0 {'prob': 1.0}\n",
      "num_of_episodes : 31, 1.0\n",
      "False 1.0 {'prob': 1.0}\n",
      "num_of_episodes : 32, 1.0\n",
      "False 1.0 {'prob': 1.0}\n",
      "num_of_episodes : 33, 1.0\n",
      "False 1.0 {'prob': 1.0}\n",
      "num_of_episodes : 34, 1.0\n"
     ]
    },
    {
     "ename": "KeyboardInterrupt",
     "evalue": "",
     "output_type": "error",
     "traceback": [
      "\u001b[0;31m---------------------------------------------------------------------------\u001b[0m",
      "\u001b[0;31mKeyboardInterrupt\u001b[0m                         Traceback (most recent call last)",
      "Cell \u001b[0;32mIn[19], line 9\u001b[0m\n\u001b[1;32m      6\u001b[0m \u001b[39mwhile\u001b[39;00m \u001b[39mnot\u001b[39;00m terminated:\n\u001b[1;32m      7\u001b[0m     \u001b[39m# env.render()\u001b[39;00m\n\u001b[1;32m      8\u001b[0m     action \u001b[39m=\u001b[39m np\u001b[39m.\u001b[39margmax(Q[state, :] \u001b[39m+\u001b[39m np\u001b[39m.\u001b[39mrandom\u001b[39m.\u001b[39mrandn(\u001b[39m1\u001b[39m, env\u001b[39m.\u001b[39maction_space\u001b[39m.\u001b[39mn) \u001b[39m/\u001b[39m (i\u001b[39m+\u001b[39m\u001b[39m1\u001b[39m))\n\u001b[0;32m----> 9\u001b[0m     observation, reward,terminated, truncated, info \u001b[39m=\u001b[39m env\u001b[39m.\u001b[39;49mstep(action)\n\u001b[1;32m     10\u001b[0m     \u001b[39mif\u001b[39;00m terminated \u001b[39mand\u001b[39;00m reward \u001b[39m==\u001b[39m \u001b[39m0.0\u001b[39m:\n\u001b[1;32m     11\u001b[0m         reward \u001b[39m=\u001b[39m \u001b[39m-\u001b[39m\u001b[39m1.0\u001b[39m\n",
      "File \u001b[0;32m~/Documents/virtualenv/python3.11_env/lib/python3.11/site-packages/gymnasium/wrappers/time_limit.py:51\u001b[0m, in \u001b[0;36mTimeLimit.step\u001b[0;34m(self, action)\u001b[0m\n\u001b[1;32m     40\u001b[0m \u001b[39mdef\u001b[39;00m \u001b[39mstep\u001b[39m(\u001b[39mself\u001b[39m, action):\n\u001b[1;32m     41\u001b[0m \u001b[39m    \u001b[39m\u001b[39m\"\"\"Steps through the environment and if the number of steps elapsed exceeds ``max_episode_steps`` then truncate.\u001b[39;00m\n\u001b[1;32m     42\u001b[0m \n\u001b[1;32m     43\u001b[0m \u001b[39m    Args:\u001b[39;00m\n\u001b[0;32m   (...)\u001b[0m\n\u001b[1;32m     49\u001b[0m \n\u001b[1;32m     50\u001b[0m \u001b[39m    \"\"\"\u001b[39;00m\n\u001b[0;32m---> 51\u001b[0m     observation, reward, terminated, truncated, info \u001b[39m=\u001b[39m \u001b[39mself\u001b[39;49m\u001b[39m.\u001b[39;49menv\u001b[39m.\u001b[39;49mstep(action)\n\u001b[1;32m     52\u001b[0m     \u001b[39mself\u001b[39m\u001b[39m.\u001b[39m_elapsed_steps \u001b[39m+\u001b[39m\u001b[39m=\u001b[39m \u001b[39m1\u001b[39m\n\u001b[1;32m     54\u001b[0m     \u001b[39mif\u001b[39;00m \u001b[39mself\u001b[39m\u001b[39m.\u001b[39m_elapsed_steps \u001b[39m>\u001b[39m\u001b[39m=\u001b[39m \u001b[39mself\u001b[39m\u001b[39m.\u001b[39m_max_episode_steps:\n",
      "File \u001b[0;32m~/Documents/virtualenv/python3.11_env/lib/python3.11/site-packages/gymnasium/wrappers/order_enforcing.py:38\u001b[0m, in \u001b[0;36mOrderEnforcing.step\u001b[0;34m(self, action)\u001b[0m\n\u001b[1;32m     36\u001b[0m \u001b[39mif\u001b[39;00m \u001b[39mnot\u001b[39;00m \u001b[39mself\u001b[39m\u001b[39m.\u001b[39m_has_reset:\n\u001b[1;32m     37\u001b[0m     \u001b[39mraise\u001b[39;00m ResetNeeded(\u001b[39m\"\u001b[39m\u001b[39mCannot call env.step() before calling env.reset()\u001b[39m\u001b[39m\"\u001b[39m)\n\u001b[0;32m---> 38\u001b[0m \u001b[39mreturn\u001b[39;00m \u001b[39mself\u001b[39;49m\u001b[39m.\u001b[39;49menv\u001b[39m.\u001b[39;49mstep(action)\n",
      "File \u001b[0;32m~/Documents/virtualenv/python3.11_env/lib/python3.11/site-packages/gymnasium/wrappers/env_checker.py:39\u001b[0m, in \u001b[0;36mPassiveEnvChecker.step\u001b[0;34m(self, action)\u001b[0m\n\u001b[1;32m     37\u001b[0m     \u001b[39mreturn\u001b[39;00m env_step_passive_checker(\u001b[39mself\u001b[39m\u001b[39m.\u001b[39menv, action)\n\u001b[1;32m     38\u001b[0m \u001b[39melse\u001b[39;00m:\n\u001b[0;32m---> 39\u001b[0m     \u001b[39mreturn\u001b[39;00m \u001b[39mself\u001b[39;49m\u001b[39m.\u001b[39;49menv\u001b[39m.\u001b[39;49mstep(action)\n",
      "File \u001b[0;32m~/Documents/virtualenv/python3.11_env/lib/python3.11/site-packages/gymnasium/envs/toy_text/frozen_lake.py:308\u001b[0m, in \u001b[0;36mFrozenLakeEnv.step\u001b[0;34m(self, a)\u001b[0m\n\u001b[1;32m    305\u001b[0m \u001b[39mself\u001b[39m\u001b[39m.\u001b[39mlastaction \u001b[39m=\u001b[39m a\n\u001b[1;32m    307\u001b[0m \u001b[39mif\u001b[39;00m \u001b[39mself\u001b[39m\u001b[39m.\u001b[39mrender_mode \u001b[39m==\u001b[39m \u001b[39m\"\u001b[39m\u001b[39mhuman\u001b[39m\u001b[39m\"\u001b[39m:\n\u001b[0;32m--> 308\u001b[0m     \u001b[39mself\u001b[39;49m\u001b[39m.\u001b[39;49mrender()\n\u001b[1;32m    309\u001b[0m \u001b[39mreturn\u001b[39;00m (\u001b[39mint\u001b[39m(s), r, t, \u001b[39mFalse\u001b[39;00m, {\u001b[39m\"\u001b[39m\u001b[39mprob\u001b[39m\u001b[39m\"\u001b[39m: p})\n",
      "File \u001b[0;32m~/Documents/virtualenv/python3.11_env/lib/python3.11/site-packages/gymnasium/envs/toy_text/frozen_lake.py:338\u001b[0m, in \u001b[0;36mFrozenLakeEnv.render\u001b[0;34m(self)\u001b[0m\n\u001b[1;32m    336\u001b[0m     \u001b[39mreturn\u001b[39;00m \u001b[39mself\u001b[39m\u001b[39m.\u001b[39m_render_text()\n\u001b[1;32m    337\u001b[0m \u001b[39melse\u001b[39;00m:  \u001b[39m# self.render_mode in {\"human\", \"rgb_array\"}:\u001b[39;00m\n\u001b[0;32m--> 338\u001b[0m     \u001b[39mreturn\u001b[39;00m \u001b[39mself\u001b[39;49m\u001b[39m.\u001b[39;49m_render_gui(\u001b[39mself\u001b[39;49m\u001b[39m.\u001b[39;49mrender_mode)\n",
      "File \u001b[0;32m~/Documents/virtualenv/python3.11_env/lib/python3.11/site-packages/gymnasium/envs/toy_text/frozen_lake.py:432\u001b[0m, in \u001b[0;36mFrozenLakeEnv._render_gui\u001b[0;34m(self, mode)\u001b[0m\n\u001b[1;32m    430\u001b[0m     pygame\u001b[39m.\u001b[39mevent\u001b[39m.\u001b[39mpump()\n\u001b[1;32m    431\u001b[0m     pygame\u001b[39m.\u001b[39mdisplay\u001b[39m.\u001b[39mupdate()\n\u001b[0;32m--> 432\u001b[0m     \u001b[39mself\u001b[39;49m\u001b[39m.\u001b[39;49mclock\u001b[39m.\u001b[39;49mtick(\u001b[39mself\u001b[39;49m\u001b[39m.\u001b[39;49mmetadata[\u001b[39m\"\u001b[39;49m\u001b[39mrender_fps\u001b[39;49m\u001b[39m\"\u001b[39;49m])\n\u001b[1;32m    433\u001b[0m \u001b[39melif\u001b[39;00m mode \u001b[39m==\u001b[39m \u001b[39m\"\u001b[39m\u001b[39mrgb_array\u001b[39m\u001b[39m\"\u001b[39m:\n\u001b[1;32m    434\u001b[0m     \u001b[39mreturn\u001b[39;00m np\u001b[39m.\u001b[39mtranspose(\n\u001b[1;32m    435\u001b[0m         np\u001b[39m.\u001b[39marray(pygame\u001b[39m.\u001b[39msurfarray\u001b[39m.\u001b[39mpixels3d(\u001b[39mself\u001b[39m\u001b[39m.\u001b[39mwindow_surface)), axes\u001b[39m=\u001b[39m(\u001b[39m1\u001b[39m, \u001b[39m0\u001b[39m, \u001b[39m2\u001b[39m)\n\u001b[1;32m    436\u001b[0m     )\n",
      "\u001b[0;31mKeyboardInterrupt\u001b[0m: "
     ]
    }
   ],
   "source": [
    "for i in range(num_episodes):\n",
    "    state, info = env.reset()\n",
    "    rAll = 0\n",
    "    terminated = False\n",
    "\n",
    "    while not terminated:\n",
    "        # env.render()\n",
    "        action = np.argmax(Q[state, :] + np.random.randn(1, env.action_space.n) / (i+1))\n",
    "        observation, reward,terminated, truncated, info = env.step(action)\n",
    "        if terminated and reward == 0.0:\n",
    "            reward = -1.0\n",
    "        Q[state, action] = reward +dis*np.max(Q[observation, :])\n",
    "        rAll += reward\n",
    "        state = observation\n",
    "        if terminated:\n",
    "            print(truncated, reward, info)\n",
    "    rList.append(rAll)\n",
    "    print(f'num_of_episodes : {i}, {rAll}')"
   ]
  },
  {
   "cell_type": "code",
   "execution_count": null,
   "metadata": {},
   "outputs": [],
   "source": [
    "print(f'Success rate : ' + str(sum(rList)/num_episodes))\n",
    "print(\"Final Q-Tables Values\")\n",
    "print(Q)\n",
    "plt.bar(range(len(rList)), rList, color=\"blue\")\n",
    "plt.show()"
   ]
  }
 ],
 "metadata": {
  "kernelspec": {
   "display_name": "python3.11_env",
   "language": "python",
   "name": "python3"
  },
  "language_info": {
   "codemirror_mode": {
    "name": "ipython",
    "version": 3
   },
   "file_extension": ".py",
   "mimetype": "text/x-python",
   "name": "python",
   "nbconvert_exporter": "python",
   "pygments_lexer": "ipython3",
   "version": "3.11.0"
  },
  "orig_nbformat": 4,
  "vscode": {
   "interpreter": {
    "hash": "1b31f8058510903579a2bd5d8770fd4739ba2047c8875304754fe25628cfae66"
   }
  }
 },
 "nbformat": 4,
 "nbformat_minor": 2
}
